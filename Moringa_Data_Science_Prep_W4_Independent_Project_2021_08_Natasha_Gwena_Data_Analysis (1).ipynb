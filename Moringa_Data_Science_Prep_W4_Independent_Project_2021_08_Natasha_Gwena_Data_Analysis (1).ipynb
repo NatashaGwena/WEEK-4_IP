{
  "nbformat": 4,
  "nbformat_minor": 0,
  "metadata": {
    "colab": {
      "name": "Moringa_Data_Science_Prep_W4_Independent_Project_2021_08_Natasha_Gwena_Data_Analysis.ipynb",
      "provenance": [],
      "collapsed_sections": []
    },
    "kernelspec": {
      "name": "python3",
      "display_name": "Python 3"
    },
    "language_info": {
      "name": "python"
    }
  },
  "cells": [
    {
      "cell_type": "markdown",
      "metadata": {
        "id": "XsTpDheSUvQC"
      },
      "source": [
        "# Overview\n",
        "\n",
        "In this week's independent project, you will be working as a data scientist working for an electric car-sharing service company. You have been tasked to process stations data to understand electric car usage over time by solving for the following research question;\n",
        "\n",
        "Research Question\n",
        "\n",
        "Identify the most popular hour of the day for picking up a shared electric car (Bluecar) in the city of Paris over the month of April 2018.\n",
        "Bonus Questions (Optional)\n",
        "\n",
        "* What is the most popular hour for returning cars?\n",
        "* What station is the most popular?\n",
        "* Overall?\n",
        "* At the most popular picking hour?\n",
        "* What postal code is the most popular for picking up Blue cars? \n",
        "* Does the most popular station belong to that postal code?\n",
        "* Overall?\n",
        "* At the most popular picking hour?\n",
        "* Do the results change if you consider Utilib and Utilib 1.4 instead of Blue cars? \n",
        "\n",
        "Your final deliverable will be a data report which will comprise the following sections;\n",
        " \n",
        "*   Business Understanding \n",
        "*   Data Understanding \n",
        "*   Data Preparation \n",
        "*   Analysis \n",
        "*   Recommndation \n",
        "*   Evaluation\n",
        "\n",
        "You can get the data and the dataset description for this Independent project here [http://bit.ly/autolib_dataset] and here respectively [Link].  The dataset contains data collected for a period of 9 days. The dataset may take a bit of some time to load [~ 10 minutes]. \n",
        "\n",
        "Hint:\n",
        "\n",
        "To compute usage, we will need to understand that we have to join successive (in time) measures/counters for a given station, as the difference will tell whether a car was picked up, returned, or nothing happened.\n",
        "\n",
        "The CRISP-DM methodology will guide you while working on the Data Report. Your Data Report will also need to have an objective account, with insights majorly coming from the dataset. However, you can refer to external information for supporting information. \n",
        "\n",
        "You can use either SQL/Python for this project."
      ]
    },
    {
      "cell_type": "markdown",
      "metadata": {
        "id": "299R1f5PXWOB"
      },
      "source": [
        "# **1. Importing our libraries**"
      ]
    },
    {
      "cell_type": "code",
      "metadata": {
        "id": "KYCAJpWbXoK3"
      },
      "source": [
        "import pandas as pd\n",
        "import numpy as np"
      ],
      "execution_count": 2,
      "outputs": []
    },
    {
      "cell_type": "markdown",
      "metadata": {
        "id": "yUoap7U0XxuQ"
      },
      "source": [
        "# **2. Reading the Dataset from our CSV file**"
      ]
    },
    {
      "cell_type": "markdown",
      "metadata": {
        "id": "IjLUFCKP99hl"
      },
      "source": [
        "The dataset contains data collected for a period of 9 days.\n",
        "[http://bit.ly/autolib_dataset] "
      ]
    },
    {
      "cell_type": "code",
      "metadata": {
        "colab": {
          "base_uri": "https://localhost:8080/",
          "height": 445
        },
        "id": "mcNrSo_bX2DH",
        "outputId": "51f1db5c-9e38-4dca-c405-32b3881938d3"
      },
      "source": [
        "# Let's read the data from the CSV file and create the dataframe to be used\n",
        "# \n",
        "df = pd.read_csv('/content/Autolib_dataset (2).csv', delimiter = ',')\n",
        "df.head()"
      ],
      "execution_count": 3,
      "outputs": [
        {
          "output_type": "execute_result",
          "data": {
            "text/html": [
              "<div>\n",
              "<style scoped>\n",
              "    .dataframe tbody tr th:only-of-type {\n",
              "        vertical-align: middle;\n",
              "    }\n",
              "\n",
              "    .dataframe tbody tr th {\n",
              "        vertical-align: top;\n",
              "    }\n",
              "\n",
              "    .dataframe thead th {\n",
              "        text-align: right;\n",
              "    }\n",
              "</style>\n",
              "<table border=\"1\" class=\"dataframe\">\n",
              "  <thead>\n",
              "    <tr style=\"text-align: right;\">\n",
              "      <th></th>\n",
              "      <th>Address</th>\n",
              "      <th>Cars</th>\n",
              "      <th>Bluecar counter</th>\n",
              "      <th>Utilib counter</th>\n",
              "      <th>Utilib 1.4 counter</th>\n",
              "      <th>Charge Slots</th>\n",
              "      <th>Charging Status</th>\n",
              "      <th>City</th>\n",
              "      <th>Displayed comment</th>\n",
              "      <th>ID</th>\n",
              "      <th>Kind</th>\n",
              "      <th>Geo point</th>\n",
              "      <th>Postal code</th>\n",
              "      <th>Public name</th>\n",
              "      <th>Rental status</th>\n",
              "      <th>Scheduled at</th>\n",
              "      <th>Slots</th>\n",
              "      <th>Station type</th>\n",
              "      <th>Status</th>\n",
              "      <th>Subscription status</th>\n",
              "      <th>year</th>\n",
              "      <th>month</th>\n",
              "      <th>day</th>\n",
              "      <th>hour</th>\n",
              "      <th>minute</th>\n",
              "    </tr>\n",
              "  </thead>\n",
              "  <tbody>\n",
              "    <tr>\n",
              "      <th>0</th>\n",
              "      <td>2 Avenue de Suffren</td>\n",
              "      <td>0</td>\n",
              "      <td>0</td>\n",
              "      <td>0</td>\n",
              "      <td>0</td>\n",
              "      <td>0</td>\n",
              "      <td>nonexistent</td>\n",
              "      <td>Paris</td>\n",
              "      <td>NaN</td>\n",
              "      <td>paris-suffren-2</td>\n",
              "      <td>STATION</td>\n",
              "      <td>48.857, 2.2917</td>\n",
              "      <td>75015</td>\n",
              "      <td>Paris/Suffren/2</td>\n",
              "      <td>operational</td>\n",
              "      <td>NaN</td>\n",
              "      <td>2</td>\n",
              "      <td>station</td>\n",
              "      <td>ok</td>\n",
              "      <td>nonexistent</td>\n",
              "      <td>2018</td>\n",
              "      <td>4</td>\n",
              "      <td>8</td>\n",
              "      <td>11</td>\n",
              "      <td>43</td>\n",
              "    </tr>\n",
              "    <tr>\n",
              "      <th>1</th>\n",
              "      <td>145 Rue Raymond Losserand</td>\n",
              "      <td>6</td>\n",
              "      <td>6</td>\n",
              "      <td>0</td>\n",
              "      <td>0</td>\n",
              "      <td>0</td>\n",
              "      <td>operational</td>\n",
              "      <td>Paris</td>\n",
              "      <td>NaN</td>\n",
              "      <td>paris-raymondlosserand-145</td>\n",
              "      <td>STATION</td>\n",
              "      <td>48.83126, 2.313088</td>\n",
              "      <td>75014</td>\n",
              "      <td>Paris/Raymond Losserand/145</td>\n",
              "      <td>operational</td>\n",
              "      <td>NaN</td>\n",
              "      <td>0</td>\n",
              "      <td>station</td>\n",
              "      <td>ok</td>\n",
              "      <td>nonexistent</td>\n",
              "      <td>2018</td>\n",
              "      <td>4</td>\n",
              "      <td>6</td>\n",
              "      <td>7</td>\n",
              "      <td>24</td>\n",
              "    </tr>\n",
              "    <tr>\n",
              "      <th>2</th>\n",
              "      <td>2 Avenue John Fitzgerald Kennedy</td>\n",
              "      <td>3</td>\n",
              "      <td>3</td>\n",
              "      <td>0</td>\n",
              "      <td>2</td>\n",
              "      <td>0</td>\n",
              "      <td>operational</td>\n",
              "      <td>Le Bourget</td>\n",
              "      <td>NaN</td>\n",
              "      <td>lebourget-johnfitzgeraldkennedy-2</td>\n",
              "      <td>STATION</td>\n",
              "      <td>48.938103, 2.4286035</td>\n",
              "      <td>93350</td>\n",
              "      <td>Le Bourget/John Fitzgerald Kennedy/2</td>\n",
              "      <td>operational</td>\n",
              "      <td>NaN</td>\n",
              "      <td>1</td>\n",
              "      <td>station</td>\n",
              "      <td>ok</td>\n",
              "      <td>nonexistent</td>\n",
              "      <td>2018</td>\n",
              "      <td>4</td>\n",
              "      <td>3</td>\n",
              "      <td>20</td>\n",
              "      <td>14</td>\n",
              "    </tr>\n",
              "    <tr>\n",
              "      <th>3</th>\n",
              "      <td>51 Rue EugÃ¨ne OudinÃ©</td>\n",
              "      <td>3</td>\n",
              "      <td>3</td>\n",
              "      <td>1</td>\n",
              "      <td>0</td>\n",
              "      <td>1</td>\n",
              "      <td>operational</td>\n",
              "      <td>Paris</td>\n",
              "      <td>NaN</td>\n",
              "      <td>paris-eugeneoudine-51</td>\n",
              "      <td>STATION</td>\n",
              "      <td>48.8250327, 2.3725162</td>\n",
              "      <td>75013</td>\n",
              "      <td>Paris/EugÃ¨ne OudinÃ©/51</td>\n",
              "      <td>operational</td>\n",
              "      <td>NaN</td>\n",
              "      <td>2</td>\n",
              "      <td>station</td>\n",
              "      <td>ok</td>\n",
              "      <td>nonexistent</td>\n",
              "      <td>2018</td>\n",
              "      <td>4</td>\n",
              "      <td>4</td>\n",
              "      <td>4</td>\n",
              "      <td>37</td>\n",
              "    </tr>\n",
              "    <tr>\n",
              "      <th>4</th>\n",
              "      <td>6 avenue de la Porte de Champerret</td>\n",
              "      <td>3</td>\n",
              "      <td>3</td>\n",
              "      <td>0</td>\n",
              "      <td>0</td>\n",
              "      <td>0</td>\n",
              "      <td>nonexistent</td>\n",
              "      <td>Paris</td>\n",
              "      <td>NaN</td>\n",
              "      <td>paris-portedechamperret-6</td>\n",
              "      <td>PARKING</td>\n",
              "      <td>48.8862632, 2.2874511</td>\n",
              "      <td>75017</td>\n",
              "      <td>Paris/Porte de Champerret/6</td>\n",
              "      <td>operational</td>\n",
              "      <td>NaN</td>\n",
              "      <td>3</td>\n",
              "      <td>station</td>\n",
              "      <td>ok</td>\n",
              "      <td>nonexistent</td>\n",
              "      <td>2018</td>\n",
              "      <td>4</td>\n",
              "      <td>8</td>\n",
              "      <td>17</td>\n",
              "      <td>23</td>\n",
              "    </tr>\n",
              "  </tbody>\n",
              "</table>\n",
              "</div>"
            ],
            "text/plain": [
              "                              Address  Cars  Bluecar counter  ...  day  hour  minute\n",
              "0                 2 Avenue de Suffren     0                0  ...    8    11      43\n",
              "1           145 Rue Raymond Losserand     6                6  ...    6     7      24\n",
              "2    2 Avenue John Fitzgerald Kennedy     3                3  ...    3    20      14\n",
              "3              51 Rue EugÃ¨ne OudinÃ©     3                3  ...    4     4      37\n",
              "4  6 avenue de la Porte de Champerret     3                3  ...    8    17      23\n",
              "\n",
              "[5 rows x 25 columns]"
            ]
          },
          "metadata": {
            "tags": []
          },
          "execution_count": 3
        }
      ]
    },
    {
      "cell_type": "code",
      "metadata": {
        "colab": {
          "base_uri": "https://localhost:8080/",
          "height": 306
        },
        "id": "PdfmmKA1Yj2A",
        "outputId": "4019b2db-be70-4a10-aca8-c88b9441be2a"
      },
      "source": [
        "# Let's read the data from the CSV file and create the dataframe to be used\n",
        "# \n",
        "df1 = pd.read_excel('/content/Stations_Open_Data.xlsx')\n",
        "df1.head()"
      ],
      "execution_count": 32,
      "outputs": [
        {
          "output_type": "execute_result",
          "data": {
            "text/html": [
              "<div>\n",
              "<style scoped>\n",
              "    .dataframe tbody tr th:only-of-type {\n",
              "        vertical-align: middle;\n",
              "    }\n",
              "\n",
              "    .dataframe tbody tr th {\n",
              "        vertical-align: top;\n",
              "    }\n",
              "\n",
              "    .dataframe thead th {\n",
              "        text-align: right;\n",
              "    }\n",
              "</style>\n",
              "<table border=\"1\" class=\"dataframe\">\n",
              "  <thead>\n",
              "    <tr style=\"text-align: right;\">\n",
              "      <th></th>\n",
              "      <th>ID DSP</th>\n",
              "      <th>ID Autolib</th>\n",
              "      <th>adresse</th>\n",
              "      <th>CP</th>\n",
              "      <th>ville</th>\n",
              "      <th>prises Autolib</th>\n",
              "      <th>prises Tiers T3</th>\n",
              "      <th>abri</th>\n",
              "      <th>type</th>\n",
              "      <th>latitude</th>\n",
              "      <th>longitude</th>\n",
              "    </tr>\n",
              "  </thead>\n",
              "  <tbody>\n",
              "    <tr>\n",
              "      <th>0</th>\n",
              "      <td>75101-PD</td>\n",
              "      <td>Paris/Pyramides/Parking</td>\n",
              "      <td>15 rue des Pyramides</td>\n",
              "      <td>75001</td>\n",
              "      <td>Paris</td>\n",
              "      <td>6</td>\n",
              "      <td>NaN</td>\n",
              "      <td>NaN</td>\n",
              "      <td>Parking</td>\n",
              "      <td>48.865247</td>\n",
              "      <td>2.333053</td>\n",
              "    </tr>\n",
              "    <tr>\n",
              "      <th>1</th>\n",
              "      <td>75103-PA</td>\n",
              "      <td>Paris/Saint-Martin/Parking</td>\n",
              "      <td>252 bis rue Saint-Martin</td>\n",
              "      <td>75003</td>\n",
              "      <td>Paris</td>\n",
              "      <td>6</td>\n",
              "      <td>NaN</td>\n",
              "      <td>NaN</td>\n",
              "      <td>Parking</td>\n",
              "      <td>48.865847</td>\n",
              "      <td>2.353606</td>\n",
              "    </tr>\n",
              "    <tr>\n",
              "      <th>2</th>\n",
              "      <td>75104-PE</td>\n",
              "      <td>Paris/Lobau/Parking</td>\n",
              "      <td>4 Rue Lobau</td>\n",
              "      <td>75004</td>\n",
              "      <td>Paris</td>\n",
              "      <td>6</td>\n",
              "      <td>NaN</td>\n",
              "      <td>NaN</td>\n",
              "      <td>Parking</td>\n",
              "      <td>48.856399</td>\n",
              "      <td>2.353686</td>\n",
              "    </tr>\n",
              "    <tr>\n",
              "      <th>3</th>\n",
              "      <td>75104-PF</td>\n",
              "      <td>Paris/Notre-Dame/Parking</td>\n",
              "      <td>1 place du parvis Notre-Dame</td>\n",
              "      <td>75004</td>\n",
              "      <td>Paris</td>\n",
              "      <td>6</td>\n",
              "      <td>NaN</td>\n",
              "      <td>NaN</td>\n",
              "      <td>Parking</td>\n",
              "      <td>48.853581</td>\n",
              "      <td>2.348915</td>\n",
              "    </tr>\n",
              "    <tr>\n",
              "      <th>4</th>\n",
              "      <td>75106-PA</td>\n",
              "      <td>Paris/Rennes Montparnasse/Parking</td>\n",
              "      <td>155 bis rue de Rennes</td>\n",
              "      <td>75006</td>\n",
              "      <td>Paris</td>\n",
              "      <td>6</td>\n",
              "      <td>NaN</td>\n",
              "      <td>NaN</td>\n",
              "      <td>Parking</td>\n",
              "      <td>48.845128</td>\n",
              "      <td>2.325235</td>\n",
              "    </tr>\n",
              "  </tbody>\n",
              "</table>\n",
              "</div>"
            ],
            "text/plain": [
              "     ID DSP                         ID Autolib  ...   latitude  longitude\n",
              "0  75101-PD            Paris/Pyramides/Parking  ...  48.865247   2.333053\n",
              "1  75103-PA         Paris/Saint-Martin/Parking  ...  48.865847   2.353606\n",
              "2  75104-PE                Paris/Lobau/Parking  ...  48.856399   2.353686\n",
              "3  75104-PF           Paris/Notre-Dame/Parking  ...  48.853581   2.348915\n",
              "4  75106-PA  Paris/Rennes Montparnasse/Parking  ...  48.845128   2.325235\n",
              "\n",
              "[5 rows x 11 columns]"
            ]
          },
          "metadata": {
            "tags": []
          },
          "execution_count": 32
        }
      ]
    },
    {
      "cell_type": "markdown",
      "metadata": {
        "id": "wox9ttKiZbHZ"
      },
      "source": [
        "# Previewing our Dataset\n",
        "\n"
      ]
    },
    {
      "cell_type": "code",
      "metadata": {
        "id": "KE_nQUpYZi_3",
        "colab": {
          "base_uri": "https://localhost:8080/",
          "height": 298
        },
        "outputId": "43f24d70-0850-4e5f-b8c7-a3f9ae7c323b"
      },
      "source": [
        "# Let's preview the first 10 rows of our data\n",
        "# \n",
        "df.head(3)"
      ],
      "execution_count": 33,
      "outputs": [
        {
          "output_type": "execute_result",
          "data": {
            "text/html": [
              "<div>\n",
              "<style scoped>\n",
              "    .dataframe tbody tr th:only-of-type {\n",
              "        vertical-align: middle;\n",
              "    }\n",
              "\n",
              "    .dataframe tbody tr th {\n",
              "        vertical-align: top;\n",
              "    }\n",
              "\n",
              "    .dataframe thead th {\n",
              "        text-align: right;\n",
              "    }\n",
              "</style>\n",
              "<table border=\"1\" class=\"dataframe\">\n",
              "  <thead>\n",
              "    <tr style=\"text-align: right;\">\n",
              "      <th></th>\n",
              "      <th>ADDRESS</th>\n",
              "      <th>CARS</th>\n",
              "      <th>BLUECAR COUNTER</th>\n",
              "      <th>UTILIB COUNTER</th>\n",
              "      <th>UTILIB 1.4 COUNTER</th>\n",
              "      <th>CHARGE SLOTS</th>\n",
              "      <th>CHARGING STATUS</th>\n",
              "      <th>CITY</th>\n",
              "      <th>ID</th>\n",
              "      <th>KIND</th>\n",
              "      <th>GEO POINT</th>\n",
              "      <th>POSTAL CODE</th>\n",
              "      <th>PUBLIC NAME</th>\n",
              "      <th>RENTAL STATUS</th>\n",
              "      <th>SCHEDULED AT</th>\n",
              "      <th>SLOTS</th>\n",
              "      <th>STATION TYPE</th>\n",
              "      <th>STATUS</th>\n",
              "      <th>SUBSCRIPTION STATUS</th>\n",
              "      <th>YEAR</th>\n",
              "      <th>MONTH</th>\n",
              "      <th>DAY</th>\n",
              "      <th>HOUR</th>\n",
              "      <th>MINUTE</th>\n",
              "    </tr>\n",
              "  </thead>\n",
              "  <tbody>\n",
              "    <tr>\n",
              "      <th>0</th>\n",
              "      <td>2 Avenue de Suffren</td>\n",
              "      <td>0</td>\n",
              "      <td>0</td>\n",
              "      <td>0</td>\n",
              "      <td>0</td>\n",
              "      <td>0</td>\n",
              "      <td>nonexistent</td>\n",
              "      <td>Paris</td>\n",
              "      <td>paris-suffren-2</td>\n",
              "      <td>STATION</td>\n",
              "      <td>48.857, 2.2917</td>\n",
              "      <td>75015</td>\n",
              "      <td>Paris/Suffren/2</td>\n",
              "      <td>operational</td>\n",
              "      <td>Missing</td>\n",
              "      <td>2</td>\n",
              "      <td>station</td>\n",
              "      <td>ok</td>\n",
              "      <td>nonexistent</td>\n",
              "      <td>2018</td>\n",
              "      <td>4</td>\n",
              "      <td>8</td>\n",
              "      <td>11</td>\n",
              "      <td>43</td>\n",
              "    </tr>\n",
              "    <tr>\n",
              "      <th>1</th>\n",
              "      <td>145 Rue Raymond Losserand</td>\n",
              "      <td>6</td>\n",
              "      <td>6</td>\n",
              "      <td>0</td>\n",
              "      <td>0</td>\n",
              "      <td>0</td>\n",
              "      <td>operational</td>\n",
              "      <td>Paris</td>\n",
              "      <td>paris-raymondlosserand-145</td>\n",
              "      <td>STATION</td>\n",
              "      <td>48.83126, 2.313088</td>\n",
              "      <td>75014</td>\n",
              "      <td>Paris/Raymond Losserand/145</td>\n",
              "      <td>operational</td>\n",
              "      <td>Missing</td>\n",
              "      <td>0</td>\n",
              "      <td>station</td>\n",
              "      <td>ok</td>\n",
              "      <td>nonexistent</td>\n",
              "      <td>2018</td>\n",
              "      <td>4</td>\n",
              "      <td>6</td>\n",
              "      <td>7</td>\n",
              "      <td>24</td>\n",
              "    </tr>\n",
              "    <tr>\n",
              "      <th>2</th>\n",
              "      <td>2 Avenue John Fitzgerald Kennedy</td>\n",
              "      <td>3</td>\n",
              "      <td>3</td>\n",
              "      <td>0</td>\n",
              "      <td>2</td>\n",
              "      <td>0</td>\n",
              "      <td>operational</td>\n",
              "      <td>Le Bourget</td>\n",
              "      <td>lebourget-johnfitzgeraldkennedy-2</td>\n",
              "      <td>STATION</td>\n",
              "      <td>48.938103, 2.4286035</td>\n",
              "      <td>93350</td>\n",
              "      <td>Le Bourget/John Fitzgerald Kennedy/2</td>\n",
              "      <td>operational</td>\n",
              "      <td>Missing</td>\n",
              "      <td>1</td>\n",
              "      <td>station</td>\n",
              "      <td>ok</td>\n",
              "      <td>nonexistent</td>\n",
              "      <td>2018</td>\n",
              "      <td>4</td>\n",
              "      <td>3</td>\n",
              "      <td>20</td>\n",
              "      <td>14</td>\n",
              "    </tr>\n",
              "  </tbody>\n",
              "</table>\n",
              "</div>"
            ],
            "text/plain": [
              "                            ADDRESS  CARS  BLUECAR COUNTER  ...  DAY  HOUR  MINUTE\n",
              "0               2 Avenue de Suffren     0                0  ...    8    11      43\n",
              "1         145 Rue Raymond Losserand     6                6  ...    6     7      24\n",
              "2  2 Avenue John Fitzgerald Kennedy     3                3  ...    3    20      14\n",
              "\n",
              "[3 rows x 24 columns]"
            ]
          },
          "metadata": {
            "tags": []
          },
          "execution_count": 33
        }
      ]
    },
    {
      "cell_type": "code",
      "metadata": {
        "id": "001GyiyvpHru",
        "colab": {
          "base_uri": "https://localhost:8080/",
          "height": 210
        },
        "outputId": "3f994b89-73f1-455b-fdcc-bdf802c15814"
      },
      "source": [
        "# Let's preview the first 10 rows of our data\n",
        "# \n",
        "df1.head(3)"
      ],
      "execution_count": 34,
      "outputs": [
        {
          "output_type": "execute_result",
          "data": {
            "text/html": [
              "<div>\n",
              "<style scoped>\n",
              "    .dataframe tbody tr th:only-of-type {\n",
              "        vertical-align: middle;\n",
              "    }\n",
              "\n",
              "    .dataframe tbody tr th {\n",
              "        vertical-align: top;\n",
              "    }\n",
              "\n",
              "    .dataframe thead th {\n",
              "        text-align: right;\n",
              "    }\n",
              "</style>\n",
              "<table border=\"1\" class=\"dataframe\">\n",
              "  <thead>\n",
              "    <tr style=\"text-align: right;\">\n",
              "      <th></th>\n",
              "      <th>ID DSP</th>\n",
              "      <th>ID Autolib</th>\n",
              "      <th>adresse</th>\n",
              "      <th>CP</th>\n",
              "      <th>ville</th>\n",
              "      <th>prises Autolib</th>\n",
              "      <th>prises Tiers T3</th>\n",
              "      <th>abri</th>\n",
              "      <th>type</th>\n",
              "      <th>latitude</th>\n",
              "      <th>longitude</th>\n",
              "    </tr>\n",
              "  </thead>\n",
              "  <tbody>\n",
              "    <tr>\n",
              "      <th>0</th>\n",
              "      <td>75101-PD</td>\n",
              "      <td>Paris/Pyramides/Parking</td>\n",
              "      <td>15 rue des Pyramides</td>\n",
              "      <td>75001</td>\n",
              "      <td>Paris</td>\n",
              "      <td>6</td>\n",
              "      <td>NaN</td>\n",
              "      <td>NaN</td>\n",
              "      <td>Parking</td>\n",
              "      <td>48.865247</td>\n",
              "      <td>2.333053</td>\n",
              "    </tr>\n",
              "    <tr>\n",
              "      <th>1</th>\n",
              "      <td>75103-PA</td>\n",
              "      <td>Paris/Saint-Martin/Parking</td>\n",
              "      <td>252 bis rue Saint-Martin</td>\n",
              "      <td>75003</td>\n",
              "      <td>Paris</td>\n",
              "      <td>6</td>\n",
              "      <td>NaN</td>\n",
              "      <td>NaN</td>\n",
              "      <td>Parking</td>\n",
              "      <td>48.865847</td>\n",
              "      <td>2.353606</td>\n",
              "    </tr>\n",
              "    <tr>\n",
              "      <th>2</th>\n",
              "      <td>75104-PE</td>\n",
              "      <td>Paris/Lobau/Parking</td>\n",
              "      <td>4 Rue Lobau</td>\n",
              "      <td>75004</td>\n",
              "      <td>Paris</td>\n",
              "      <td>6</td>\n",
              "      <td>NaN</td>\n",
              "      <td>NaN</td>\n",
              "      <td>Parking</td>\n",
              "      <td>48.856399</td>\n",
              "      <td>2.353686</td>\n",
              "    </tr>\n",
              "  </tbody>\n",
              "</table>\n",
              "</div>"
            ],
            "text/plain": [
              "     ID DSP                  ID Autolib  ...   latitude  longitude\n",
              "0  75101-PD     Paris/Pyramides/Parking  ...  48.865247   2.333053\n",
              "1  75103-PA  Paris/Saint-Martin/Parking  ...  48.865847   2.353606\n",
              "2  75104-PE         Paris/Lobau/Parking  ...  48.856399   2.353686\n",
              "\n",
              "[3 rows x 11 columns]"
            ]
          },
          "metadata": {
            "tags": []
          },
          "execution_count": 34
        }
      ]
    },
    {
      "cell_type": "markdown",
      "metadata": {
        "id": "0X6YhBd8aKUA"
      },
      "source": [
        "# Accessing Information about our Dataset"
      ]
    },
    {
      "cell_type": "code",
      "metadata": {
        "id": "AiI7T7_XaQCP",
        "colab": {
          "base_uri": "https://localhost:8080/"
        },
        "outputId": "459de03d-ce8e-40e7-e434-d5e2fa57f87f"
      },
      "source": [
        "# Getting to know more about the dataset by accessing its information\n",
        "# \n",
        "print(df.info())\n",
        "df.shape"
      ],
      "execution_count": 7,
      "outputs": [
        {
          "output_type": "stream",
          "text": [
            "<class 'pandas.core.frame.DataFrame'>\n",
            "RangeIndex: 5000 entries, 0 to 4999\n",
            "Data columns (total 25 columns):\n",
            " #   Column               Non-Null Count  Dtype \n",
            "---  ------               --------------  ----- \n",
            " 0   Address              5000 non-null   object\n",
            " 1   Cars                 5000 non-null   int64 \n",
            " 2   Bluecar counter      5000 non-null   int64 \n",
            " 3   Utilib counter       5000 non-null   int64 \n",
            " 4   Utilib 1.4 counter   5000 non-null   int64 \n",
            " 5   Charge Slots         5000 non-null   int64 \n",
            " 6   Charging Status      5000 non-null   object\n",
            " 7   City                 5000 non-null   object\n",
            " 8   Displayed comment    111 non-null    object\n",
            " 9   ID                   5000 non-null   object\n",
            " 10  Kind                 5000 non-null   object\n",
            " 11  Geo point            5000 non-null   object\n",
            " 12  Postal code          5000 non-null   int64 \n",
            " 13  Public name          5000 non-null   object\n",
            " 14  Rental status        5000 non-null   object\n",
            " 15  Scheduled at         47 non-null     object\n",
            " 16  Slots                5000 non-null   int64 \n",
            " 17  Station type         5000 non-null   object\n",
            " 18  Status               5000 non-null   object\n",
            " 19  Subscription status  5000 non-null   object\n",
            " 20  year                 5000 non-null   int64 \n",
            " 21  month                5000 non-null   int64 \n",
            " 22  day                  5000 non-null   int64 \n",
            " 23  hour                 5000 non-null   int64 \n",
            " 24  minute               5000 non-null   int64 \n",
            "dtypes: int64(12), object(13)\n",
            "memory usage: 976.7+ KB\n",
            "None\n"
          ],
          "name": "stdout"
        },
        {
          "output_type": "execute_result",
          "data": {
            "text/plain": [
              "(5000, 25)"
            ]
          },
          "metadata": {
            "tags": []
          },
          "execution_count": 7
        }
      ]
    },
    {
      "cell_type": "code",
      "metadata": {
        "id": "oqh21Ig2atz5",
        "colab": {
          "base_uri": "https://localhost:8080/"
        },
        "outputId": "5ecf4ee2-3408-46a1-9f62-8fa7b713b515"
      },
      "source": [
        "# Getting to know more about the dataset by accessing its information\n",
        "# \n",
        "print(df1.info())\n",
        "df1.shape"
      ],
      "execution_count": 8,
      "outputs": [
        {
          "output_type": "stream",
          "text": [
            "<class 'pandas.core.frame.DataFrame'>\n",
            "RangeIndex: 1058 entries, 0 to 1057\n",
            "Data columns (total 11 columns):\n",
            " #   Column           Non-Null Count  Dtype  \n",
            "---  ------           --------------  -----  \n",
            " 0   ID DSP           1058 non-null   object \n",
            " 1   ID Autolib       1058 non-null   object \n",
            " 2   adresse          1058 non-null   object \n",
            " 3   CP               1058 non-null   int64  \n",
            " 4   ville            1058 non-null   object \n",
            " 5   prises Autolib   1058 non-null   int64  \n",
            " 6   prises Tiers T3  493 non-null    float64\n",
            " 7   abri             76 non-null     float64\n",
            " 8   type             1058 non-null   object \n",
            " 9   latitude         1058 non-null   float64\n",
            " 10  longitude        1058 non-null   float64\n",
            "dtypes: float64(4), int64(2), object(5)\n",
            "memory usage: 91.0+ KB\n",
            "None\n"
          ],
          "name": "stdout"
        },
        {
          "output_type": "execute_result",
          "data": {
            "text/plain": [
              "(1058, 11)"
            ]
          },
          "metadata": {
            "tags": []
          },
          "execution_count": 8
        }
      ]
    },
    {
      "cell_type": "markdown",
      "metadata": {
        "id": "vvQmgzQsZNGh"
      },
      "source": [
        "# **3. Cleaning our Dataset**"
      ]
    },
    {
      "cell_type": "code",
      "metadata": {
        "id": "WoK9h0_2IDOD",
        "colab": {
          "base_uri": "https://localhost:8080/"
        },
        "outputId": "e35266eb-9bae-4eee-847f-ba6338a9b966"
      },
      "source": [
        "# Checking for missing data\n",
        "#\n",
        "\n",
        "df.isnull().sum()"
      ],
      "execution_count": 35,
      "outputs": [
        {
          "output_type": "execute_result",
          "data": {
            "text/plain": [
              "ADDRESS                0\n",
              "CARS                   0\n",
              "BLUECAR COUNTER        0\n",
              "UTILIB COUNTER         0\n",
              "UTILIB 1.4 COUNTER     0\n",
              "CHARGE SLOTS           0\n",
              "CHARGING STATUS        0\n",
              "CITY                   0\n",
              "ID                     0\n",
              "KIND                   0\n",
              "GEO POINT              0\n",
              "POSTAL CODE            0\n",
              "PUBLIC NAME            0\n",
              "RENTAL STATUS          0\n",
              "SCHEDULED AT           0\n",
              "SLOTS                  0\n",
              "STATION TYPE           0\n",
              "STATUS                 0\n",
              "SUBSCRIPTION STATUS    0\n",
              "YEAR                   0\n",
              "MONTH                  0\n",
              "DAY                    0\n",
              "HOUR                   0\n",
              "MINUTE                 0\n",
              "dtype: int64"
            ]
          },
          "metadata": {
            "tags": []
          },
          "execution_count": 35
        }
      ]
    },
    {
      "cell_type": "code",
      "metadata": {
        "id": "h1SvPEPDIcYi",
        "colab": {
          "base_uri": "https://localhost:8080/"
        },
        "outputId": "9a924249-a099-4f35-b0ab-8403a0306220"
      },
      "source": [
        "# Listing all the columns that have missing values\n",
        "\n",
        "df.isnull().any()"
      ],
      "execution_count": 10,
      "outputs": [
        {
          "output_type": "execute_result",
          "data": {
            "text/plain": [
              "Address                False\n",
              "Cars                   False\n",
              "Bluecar counter        False\n",
              "Utilib counter         False\n",
              "Utilib 1.4 counter     False\n",
              "Charge Slots           False\n",
              "Charging Status        False\n",
              "City                   False\n",
              "Displayed comment       True\n",
              "ID                     False\n",
              "Kind                   False\n",
              "Geo point              False\n",
              "Postal code            False\n",
              "Public name            False\n",
              "Rental status          False\n",
              "Scheduled at            True\n",
              "Slots                  False\n",
              "Station type           False\n",
              "Status                 False\n",
              "Subscription status    False\n",
              "year                   False\n",
              "month                  False\n",
              "day                    False\n",
              "hour                   False\n",
              "minute                 False\n",
              "dtype: bool"
            ]
          },
          "metadata": {
            "tags": []
          },
          "execution_count": 10
        }
      ]
    },
    {
      "cell_type": "code",
      "metadata": {
        "colab": {
          "base_uri": "https://localhost:8080/"
        },
        "id": "OjmAqN8kGp-P",
        "outputId": "38363bca-9e66-4e39-e274-1c940398c0fa"
      },
      "source": [
        "df1.isnull().sum()"
      ],
      "execution_count": 37,
      "outputs": [
        {
          "output_type": "execute_result",
          "data": {
            "text/plain": [
              "ID DSP               0\n",
              "ID Autolib           0\n",
              "adresse              0\n",
              "CP                   0\n",
              "ville                0\n",
              "prises Autolib       0\n",
              "prises Tiers T3    565\n",
              "abri               982\n",
              "type                 0\n",
              "latitude             0\n",
              "longitude            0\n",
              "dtype: int64"
            ]
          },
          "metadata": {
            "tags": []
          },
          "execution_count": 37
        }
      ]
    },
    {
      "cell_type": "code",
      "metadata": {
        "colab": {
          "base_uri": "https://localhost:8080/"
        },
        "id": "7SJucckGGsL8",
        "outputId": "137c6f25-fbf6-4cda-e40a-311fa2f25750"
      },
      "source": [
        "df1.isnull().any()"
      ],
      "execution_count": 13,
      "outputs": [
        {
          "output_type": "execute_result",
          "data": {
            "text/plain": [
              "ID DSP             False\n",
              "ID Autolib         False\n",
              "adresse            False\n",
              "CP                 False\n",
              "ville              False\n",
              "prises Autolib     False\n",
              "prises Tiers T3     True\n",
              "abri                True\n",
              "type               False\n",
              "latitude           False\n",
              "longitude          False\n",
              "dtype: bool"
            ]
          },
          "metadata": {
            "tags": []
          },
          "execution_count": 13
        }
      ]
    },
    {
      "cell_type": "markdown",
      "metadata": {
        "id": "PPgYpRjfaYiY"
      },
      "source": [
        "# Validity"
      ]
    },
    {
      "cell_type": "code",
      "metadata": {
        "id": "-fI0hiagnjEi",
        "colab": {
          "base_uri": "https://localhost:8080/",
          "height": 363
        },
        "outputId": "5efe417d-d6bf-4d6b-d6bf-d0a5dd6d10a2"
      },
      "source": [
        "df.head(4)"
      ],
      "execution_count": 38,
      "outputs": [
        {
          "output_type": "execute_result",
          "data": {
            "text/html": [
              "<div>\n",
              "<style scoped>\n",
              "    .dataframe tbody tr th:only-of-type {\n",
              "        vertical-align: middle;\n",
              "    }\n",
              "\n",
              "    .dataframe tbody tr th {\n",
              "        vertical-align: top;\n",
              "    }\n",
              "\n",
              "    .dataframe thead th {\n",
              "        text-align: right;\n",
              "    }\n",
              "</style>\n",
              "<table border=\"1\" class=\"dataframe\">\n",
              "  <thead>\n",
              "    <tr style=\"text-align: right;\">\n",
              "      <th></th>\n",
              "      <th>ADDRESS</th>\n",
              "      <th>CARS</th>\n",
              "      <th>BLUECAR COUNTER</th>\n",
              "      <th>UTILIB COUNTER</th>\n",
              "      <th>UTILIB 1.4 COUNTER</th>\n",
              "      <th>CHARGE SLOTS</th>\n",
              "      <th>CHARGING STATUS</th>\n",
              "      <th>CITY</th>\n",
              "      <th>ID</th>\n",
              "      <th>KIND</th>\n",
              "      <th>GEO POINT</th>\n",
              "      <th>POSTAL CODE</th>\n",
              "      <th>PUBLIC NAME</th>\n",
              "      <th>RENTAL STATUS</th>\n",
              "      <th>SCHEDULED AT</th>\n",
              "      <th>SLOTS</th>\n",
              "      <th>STATION TYPE</th>\n",
              "      <th>STATUS</th>\n",
              "      <th>SUBSCRIPTION STATUS</th>\n",
              "      <th>YEAR</th>\n",
              "      <th>MONTH</th>\n",
              "      <th>DAY</th>\n",
              "      <th>HOUR</th>\n",
              "      <th>MINUTE</th>\n",
              "    </tr>\n",
              "  </thead>\n",
              "  <tbody>\n",
              "    <tr>\n",
              "      <th>0</th>\n",
              "      <td>2 Avenue de Suffren</td>\n",
              "      <td>0</td>\n",
              "      <td>0</td>\n",
              "      <td>0</td>\n",
              "      <td>0</td>\n",
              "      <td>0</td>\n",
              "      <td>nonexistent</td>\n",
              "      <td>Paris</td>\n",
              "      <td>paris-suffren-2</td>\n",
              "      <td>STATION</td>\n",
              "      <td>48.857, 2.2917</td>\n",
              "      <td>75015</td>\n",
              "      <td>Paris/Suffren/2</td>\n",
              "      <td>operational</td>\n",
              "      <td>Missing</td>\n",
              "      <td>2</td>\n",
              "      <td>station</td>\n",
              "      <td>ok</td>\n",
              "      <td>nonexistent</td>\n",
              "      <td>2018</td>\n",
              "      <td>4</td>\n",
              "      <td>8</td>\n",
              "      <td>11</td>\n",
              "      <td>43</td>\n",
              "    </tr>\n",
              "    <tr>\n",
              "      <th>1</th>\n",
              "      <td>145 Rue Raymond Losserand</td>\n",
              "      <td>6</td>\n",
              "      <td>6</td>\n",
              "      <td>0</td>\n",
              "      <td>0</td>\n",
              "      <td>0</td>\n",
              "      <td>operational</td>\n",
              "      <td>Paris</td>\n",
              "      <td>paris-raymondlosserand-145</td>\n",
              "      <td>STATION</td>\n",
              "      <td>48.83126, 2.313088</td>\n",
              "      <td>75014</td>\n",
              "      <td>Paris/Raymond Losserand/145</td>\n",
              "      <td>operational</td>\n",
              "      <td>Missing</td>\n",
              "      <td>0</td>\n",
              "      <td>station</td>\n",
              "      <td>ok</td>\n",
              "      <td>nonexistent</td>\n",
              "      <td>2018</td>\n",
              "      <td>4</td>\n",
              "      <td>6</td>\n",
              "      <td>7</td>\n",
              "      <td>24</td>\n",
              "    </tr>\n",
              "    <tr>\n",
              "      <th>2</th>\n",
              "      <td>2 Avenue John Fitzgerald Kennedy</td>\n",
              "      <td>3</td>\n",
              "      <td>3</td>\n",
              "      <td>0</td>\n",
              "      <td>2</td>\n",
              "      <td>0</td>\n",
              "      <td>operational</td>\n",
              "      <td>Le Bourget</td>\n",
              "      <td>lebourget-johnfitzgeraldkennedy-2</td>\n",
              "      <td>STATION</td>\n",
              "      <td>48.938103, 2.4286035</td>\n",
              "      <td>93350</td>\n",
              "      <td>Le Bourget/John Fitzgerald Kennedy/2</td>\n",
              "      <td>operational</td>\n",
              "      <td>Missing</td>\n",
              "      <td>1</td>\n",
              "      <td>station</td>\n",
              "      <td>ok</td>\n",
              "      <td>nonexistent</td>\n",
              "      <td>2018</td>\n",
              "      <td>4</td>\n",
              "      <td>3</td>\n",
              "      <td>20</td>\n",
              "      <td>14</td>\n",
              "    </tr>\n",
              "    <tr>\n",
              "      <th>3</th>\n",
              "      <td>51 Rue EugÃ¨ne OudinÃ©</td>\n",
              "      <td>3</td>\n",
              "      <td>3</td>\n",
              "      <td>1</td>\n",
              "      <td>0</td>\n",
              "      <td>1</td>\n",
              "      <td>operational</td>\n",
              "      <td>Paris</td>\n",
              "      <td>paris-eugeneoudine-51</td>\n",
              "      <td>STATION</td>\n",
              "      <td>48.8250327, 2.3725162</td>\n",
              "      <td>75013</td>\n",
              "      <td>Paris/EugÃ¨ne OudinÃ©/51</td>\n",
              "      <td>operational</td>\n",
              "      <td>Missing</td>\n",
              "      <td>2</td>\n",
              "      <td>station</td>\n",
              "      <td>ok</td>\n",
              "      <td>nonexistent</td>\n",
              "      <td>2018</td>\n",
              "      <td>4</td>\n",
              "      <td>4</td>\n",
              "      <td>4</td>\n",
              "      <td>37</td>\n",
              "    </tr>\n",
              "  </tbody>\n",
              "</table>\n",
              "</div>"
            ],
            "text/plain": [
              "                            ADDRESS  CARS  BLUECAR COUNTER  ...  DAY  HOUR  MINUTE\n",
              "0               2 Avenue de Suffren     0                0  ...    8    11      43\n",
              "1         145 Rue Raymond Losserand     6                6  ...    6     7      24\n",
              "2  2 Avenue John Fitzgerald Kennedy     3                3  ...    3    20      14\n",
              "3            51 Rue EugÃ¨ne OudinÃ©     3                3  ...    4     4      37\n",
              "\n",
              "[4 rows x 24 columns]"
            ]
          },
          "metadata": {
            "tags": []
          },
          "execution_count": 38
        }
      ]
    },
    {
      "cell_type": "code",
      "metadata": {
        "id": "wNeUi1m0xBBF"
      },
      "source": [
        "\n",
        "\n",
        "df.drop(['Displayed comment']\t, axis=1, inplace=True)\n"
      ],
      "execution_count": 17,
      "outputs": []
    },
    {
      "cell_type": "code",
      "metadata": {
        "id": "Cl_DDtXIzPqd"
      },
      "source": [
        "# Completeness\n",
        "# This works on the completeness of the dataframe by replacing Null-values with the word \"Missing\"\n",
        "\n",
        "df.fillna('Missing', inplace=True)"
      ],
      "execution_count": 19,
      "outputs": []
    },
    {
      "cell_type": "code",
      "metadata": {
        "id": "5fqrzj5F00UA"
      },
      "source": [
        "# Completeness\n",
        "# We drop the 2 columns that contain Null_values\n",
        "df1.drop(['prises Tiers T3', 'abri']\t, axis=1, inplace=True)"
      ],
      "execution_count": 20,
      "outputs": []
    },
    {
      "cell_type": "markdown",
      "metadata": {
        "id": "U3ZI7ujpaZ5Q"
      },
      "source": [
        "# Consitency"
      ]
    },
    {
      "cell_type": "code",
      "metadata": {
        "id": "H9kX4p8zazCX",
        "colab": {
          "base_uri": "https://localhost:8080/"
        },
        "outputId": "50055416-1f0b-45eb-d502-68a6970c58c2"
      },
      "source": [
        "df.duplicated().sum()\n",
        "\n",
        "# This dataframe was consistent because there were no duplicated columns"
      ],
      "execution_count": 45,
      "outputs": [
        {
          "output_type": "execute_result",
          "data": {
            "text/plain": [
              "0"
            ]
          },
          "metadata": {
            "tags": []
          },
          "execution_count": 45
        }
      ]
    },
    {
      "cell_type": "code",
      "metadata": {
        "colab": {
          "base_uri": "https://localhost:8080/"
        },
        "id": "Fatxco-85b42",
        "outputId": "88b6e995-5220-493a-a9fe-c2104959ead2"
      },
      "source": [
        "df1.duplicated().sum()\n",
        "\n",
        "# This dataframe was consistent because there were no duplicated columns"
      ],
      "execution_count": 44,
      "outputs": [
        {
          "output_type": "execute_result",
          "data": {
            "text/plain": [
              "0"
            ]
          },
          "metadata": {
            "tags": []
          },
          "execution_count": 44
        }
      ]
    },
    {
      "cell_type": "markdown",
      "metadata": {
        "id": "xCk_jOjra0kJ"
      },
      "source": [
        "# Uniformity"
      ]
    },
    {
      "cell_type": "code",
      "metadata": {
        "id": "HsEXtpG2a6Cm",
        "colab": {
          "base_uri": "https://localhost:8080/",
          "height": 428
        },
        "outputId": "800a0645-937f-432b-e831-d3367e2c8195"
      },
      "source": [
        "# Changing the Columns names to Upper Case\n",
        "\n",
        "df.columns = df.columns.str.upper()\n",
        "df.columns\n",
        "df.head()"
      ],
      "execution_count": 42,
      "outputs": [
        {
          "output_type": "execute_result",
          "data": {
            "text/html": [
              "<div>\n",
              "<style scoped>\n",
              "    .dataframe tbody tr th:only-of-type {\n",
              "        vertical-align: middle;\n",
              "    }\n",
              "\n",
              "    .dataframe tbody tr th {\n",
              "        vertical-align: top;\n",
              "    }\n",
              "\n",
              "    .dataframe thead th {\n",
              "        text-align: right;\n",
              "    }\n",
              "</style>\n",
              "<table border=\"1\" class=\"dataframe\">\n",
              "  <thead>\n",
              "    <tr style=\"text-align: right;\">\n",
              "      <th></th>\n",
              "      <th>ADDRESS</th>\n",
              "      <th>CARS</th>\n",
              "      <th>BLUECAR COUNTER</th>\n",
              "      <th>UTILIB COUNTER</th>\n",
              "      <th>UTILIB 1.4 COUNTER</th>\n",
              "      <th>CHARGE SLOTS</th>\n",
              "      <th>CHARGING STATUS</th>\n",
              "      <th>CITY</th>\n",
              "      <th>ID</th>\n",
              "      <th>KIND</th>\n",
              "      <th>GEO POINT</th>\n",
              "      <th>POSTAL CODE</th>\n",
              "      <th>PUBLIC NAME</th>\n",
              "      <th>RENTAL STATUS</th>\n",
              "      <th>SCHEDULED AT</th>\n",
              "      <th>SLOTS</th>\n",
              "      <th>STATION TYPE</th>\n",
              "      <th>STATUS</th>\n",
              "      <th>SUBSCRIPTION STATUS</th>\n",
              "      <th>YEAR</th>\n",
              "      <th>MONTH</th>\n",
              "      <th>DAY</th>\n",
              "      <th>HOUR</th>\n",
              "      <th>MINUTE</th>\n",
              "    </tr>\n",
              "  </thead>\n",
              "  <tbody>\n",
              "    <tr>\n",
              "      <th>0</th>\n",
              "      <td>2 Avenue de Suffren</td>\n",
              "      <td>0</td>\n",
              "      <td>0</td>\n",
              "      <td>0</td>\n",
              "      <td>0</td>\n",
              "      <td>0</td>\n",
              "      <td>nonexistent</td>\n",
              "      <td>Paris</td>\n",
              "      <td>paris-suffren-2</td>\n",
              "      <td>STATION</td>\n",
              "      <td>48.857, 2.2917</td>\n",
              "      <td>75015</td>\n",
              "      <td>Paris/Suffren/2</td>\n",
              "      <td>operational</td>\n",
              "      <td>Missing</td>\n",
              "      <td>2</td>\n",
              "      <td>station</td>\n",
              "      <td>ok</td>\n",
              "      <td>nonexistent</td>\n",
              "      <td>2018</td>\n",
              "      <td>4</td>\n",
              "      <td>8</td>\n",
              "      <td>11</td>\n",
              "      <td>43</td>\n",
              "    </tr>\n",
              "    <tr>\n",
              "      <th>1</th>\n",
              "      <td>145 Rue Raymond Losserand</td>\n",
              "      <td>6</td>\n",
              "      <td>6</td>\n",
              "      <td>0</td>\n",
              "      <td>0</td>\n",
              "      <td>0</td>\n",
              "      <td>operational</td>\n",
              "      <td>Paris</td>\n",
              "      <td>paris-raymondlosserand-145</td>\n",
              "      <td>STATION</td>\n",
              "      <td>48.83126, 2.313088</td>\n",
              "      <td>75014</td>\n",
              "      <td>Paris/Raymond Losserand/145</td>\n",
              "      <td>operational</td>\n",
              "      <td>Missing</td>\n",
              "      <td>0</td>\n",
              "      <td>station</td>\n",
              "      <td>ok</td>\n",
              "      <td>nonexistent</td>\n",
              "      <td>2018</td>\n",
              "      <td>4</td>\n",
              "      <td>6</td>\n",
              "      <td>7</td>\n",
              "      <td>24</td>\n",
              "    </tr>\n",
              "    <tr>\n",
              "      <th>2</th>\n",
              "      <td>2 Avenue John Fitzgerald Kennedy</td>\n",
              "      <td>3</td>\n",
              "      <td>3</td>\n",
              "      <td>0</td>\n",
              "      <td>2</td>\n",
              "      <td>0</td>\n",
              "      <td>operational</td>\n",
              "      <td>Le Bourget</td>\n",
              "      <td>lebourget-johnfitzgeraldkennedy-2</td>\n",
              "      <td>STATION</td>\n",
              "      <td>48.938103, 2.4286035</td>\n",
              "      <td>93350</td>\n",
              "      <td>Le Bourget/John Fitzgerald Kennedy/2</td>\n",
              "      <td>operational</td>\n",
              "      <td>Missing</td>\n",
              "      <td>1</td>\n",
              "      <td>station</td>\n",
              "      <td>ok</td>\n",
              "      <td>nonexistent</td>\n",
              "      <td>2018</td>\n",
              "      <td>4</td>\n",
              "      <td>3</td>\n",
              "      <td>20</td>\n",
              "      <td>14</td>\n",
              "    </tr>\n",
              "    <tr>\n",
              "      <th>3</th>\n",
              "      <td>51 Rue EugÃ¨ne OudinÃ©</td>\n",
              "      <td>3</td>\n",
              "      <td>3</td>\n",
              "      <td>1</td>\n",
              "      <td>0</td>\n",
              "      <td>1</td>\n",
              "      <td>operational</td>\n",
              "      <td>Paris</td>\n",
              "      <td>paris-eugeneoudine-51</td>\n",
              "      <td>STATION</td>\n",
              "      <td>48.8250327, 2.3725162</td>\n",
              "      <td>75013</td>\n",
              "      <td>Paris/EugÃ¨ne OudinÃ©/51</td>\n",
              "      <td>operational</td>\n",
              "      <td>Missing</td>\n",
              "      <td>2</td>\n",
              "      <td>station</td>\n",
              "      <td>ok</td>\n",
              "      <td>nonexistent</td>\n",
              "      <td>2018</td>\n",
              "      <td>4</td>\n",
              "      <td>4</td>\n",
              "      <td>4</td>\n",
              "      <td>37</td>\n",
              "    </tr>\n",
              "    <tr>\n",
              "      <th>5</th>\n",
              "      <td>8 Boulevard Voltaire</td>\n",
              "      <td>0</td>\n",
              "      <td>0</td>\n",
              "      <td>0</td>\n",
              "      <td>0</td>\n",
              "      <td>0</td>\n",
              "      <td>nonexistent</td>\n",
              "      <td>Paris</td>\n",
              "      <td>paris-voltaire-8</td>\n",
              "      <td>STATION</td>\n",
              "      <td>48.8657658, 2.3664376</td>\n",
              "      <td>75011</td>\n",
              "      <td>Paris/Voltaire/8</td>\n",
              "      <td>operational</td>\n",
              "      <td>Missing</td>\n",
              "      <td>4</td>\n",
              "      <td>station</td>\n",
              "      <td>ok</td>\n",
              "      <td>nonexistent</td>\n",
              "      <td>2018</td>\n",
              "      <td>4</td>\n",
              "      <td>6</td>\n",
              "      <td>7</td>\n",
              "      <td>2</td>\n",
              "    </tr>\n",
              "  </tbody>\n",
              "</table>\n",
              "</div>"
            ],
            "text/plain": [
              "                            ADDRESS  CARS  BLUECAR COUNTER  ...  DAY  HOUR  MINUTE\n",
              "0               2 Avenue de Suffren     0                0  ...    8    11      43\n",
              "1         145 Rue Raymond Losserand     6                6  ...    6     7      24\n",
              "2  2 Avenue John Fitzgerald Kennedy     3                3  ...    3    20      14\n",
              "3            51 Rue EugÃ¨ne OudinÃ©     3                3  ...    4     4      37\n",
              "5              8 Boulevard Voltaire     0                0  ...    6     7       2\n",
              "\n",
              "[5 rows x 24 columns]"
            ]
          },
          "metadata": {
            "tags": []
          },
          "execution_count": 42
        }
      ]
    },
    {
      "cell_type": "code",
      "metadata": {
        "colab": {
          "base_uri": "https://localhost:8080/",
          "height": 306
        },
        "id": "IyRgCLaM6Sz5",
        "outputId": "7364ba80-63b8-423b-ae93-5662d9228510"
      },
      "source": [
        "#create a function that removes white spaces, converts string values to upper case and replaces double spaces with single space\n",
        "def clean_df1(x):\n",
        "  if isinstance(x, str):\n",
        "    return x.strip().upper().replace('  ', ' ')\n",
        "  else:\n",
        "    return x\n",
        "\n",
        "#apply the function to the dataframe and assign dataframe to new variable\n",
        "df_valid1 = df1.applymap(clean_df1)\n",
        "\n",
        "#display a few records to see changes\n",
        "df1.head()"
      ],
      "execution_count": 25,
      "outputs": [
        {
          "output_type": "execute_result",
          "data": {
            "text/html": [
              "<div>\n",
              "<style scoped>\n",
              "    .dataframe tbody tr th:only-of-type {\n",
              "        vertical-align: middle;\n",
              "    }\n",
              "\n",
              "    .dataframe tbody tr th {\n",
              "        vertical-align: top;\n",
              "    }\n",
              "\n",
              "    .dataframe thead th {\n",
              "        text-align: right;\n",
              "    }\n",
              "</style>\n",
              "<table border=\"1\" class=\"dataframe\">\n",
              "  <thead>\n",
              "    <tr style=\"text-align: right;\">\n",
              "      <th></th>\n",
              "      <th>ID DSP</th>\n",
              "      <th>ID Autolib</th>\n",
              "      <th>adresse</th>\n",
              "      <th>CP</th>\n",
              "      <th>ville</th>\n",
              "      <th>prises Autolib</th>\n",
              "      <th>type</th>\n",
              "      <th>latitude</th>\n",
              "      <th>longitude</th>\n",
              "    </tr>\n",
              "  </thead>\n",
              "  <tbody>\n",
              "    <tr>\n",
              "      <th>0</th>\n",
              "      <td>75101-PD</td>\n",
              "      <td>Paris/Pyramides/Parking</td>\n",
              "      <td>15 rue des Pyramides</td>\n",
              "      <td>75001</td>\n",
              "      <td>Paris</td>\n",
              "      <td>6</td>\n",
              "      <td>Parking</td>\n",
              "      <td>48.865247</td>\n",
              "      <td>2.333053</td>\n",
              "    </tr>\n",
              "    <tr>\n",
              "      <th>1</th>\n",
              "      <td>75103-PA</td>\n",
              "      <td>Paris/Saint-Martin/Parking</td>\n",
              "      <td>252 bis rue Saint-Martin</td>\n",
              "      <td>75003</td>\n",
              "      <td>Paris</td>\n",
              "      <td>6</td>\n",
              "      <td>Parking</td>\n",
              "      <td>48.865847</td>\n",
              "      <td>2.353606</td>\n",
              "    </tr>\n",
              "    <tr>\n",
              "      <th>2</th>\n",
              "      <td>75104-PE</td>\n",
              "      <td>Paris/Lobau/Parking</td>\n",
              "      <td>4 Rue Lobau</td>\n",
              "      <td>75004</td>\n",
              "      <td>Paris</td>\n",
              "      <td>6</td>\n",
              "      <td>Parking</td>\n",
              "      <td>48.856399</td>\n",
              "      <td>2.353686</td>\n",
              "    </tr>\n",
              "    <tr>\n",
              "      <th>3</th>\n",
              "      <td>75104-PF</td>\n",
              "      <td>Paris/Notre-Dame/Parking</td>\n",
              "      <td>1 place du parvis Notre-Dame</td>\n",
              "      <td>75004</td>\n",
              "      <td>Paris</td>\n",
              "      <td>6</td>\n",
              "      <td>Parking</td>\n",
              "      <td>48.853581</td>\n",
              "      <td>2.348915</td>\n",
              "    </tr>\n",
              "    <tr>\n",
              "      <th>4</th>\n",
              "      <td>75106-PA</td>\n",
              "      <td>Paris/Rennes Montparnasse/Parking</td>\n",
              "      <td>155 bis rue de Rennes</td>\n",
              "      <td>75006</td>\n",
              "      <td>Paris</td>\n",
              "      <td>6</td>\n",
              "      <td>Parking</td>\n",
              "      <td>48.845128</td>\n",
              "      <td>2.325235</td>\n",
              "    </tr>\n",
              "  </tbody>\n",
              "</table>\n",
              "</div>"
            ],
            "text/plain": [
              "     ID DSP                         ID Autolib  ...   latitude  longitude\n",
              "0  75101-PD            Paris/Pyramides/Parking  ...  48.865247   2.333053\n",
              "1  75103-PA         Paris/Saint-Martin/Parking  ...  48.865847   2.353606\n",
              "2  75104-PE                Paris/Lobau/Parking  ...  48.856399   2.353686\n",
              "3  75104-PF           Paris/Notre-Dame/Parking  ...  48.853581   2.348915\n",
              "4  75106-PA  Paris/Rennes Montparnasse/Parking  ...  48.845128   2.325235\n",
              "\n",
              "[5 rows x 9 columns]"
            ]
          },
          "metadata": {
            "tags": []
          },
          "execution_count": 25
        }
      ]
    },
    {
      "cell_type": "markdown",
      "metadata": {
        "id": "7aUZC3bda_i3"
      },
      "source": [
        "# **4. Merging both Dataframes**"
      ]
    },
    {
      "cell_type": "code",
      "metadata": {
        "id": "5WwwCrHmbFHP",
        "colab": {
          "base_uri": "https://localhost:8080/",
          "height": 462
        },
        "outputId": "4dca0eb5-08c2-48f6-ed54-fa436555a570"
      },
      "source": [
        "# Here we merge the 2 cleaned dataframes\n",
        "#\n",
        "df_merge = df.join(df1, how=\"outer\")\n",
        "df_merge.head()"
      ],
      "execution_count": 43,
      "outputs": [
        {
          "output_type": "execute_result",
          "data": {
            "text/html": [
              "<div>\n",
              "<style scoped>\n",
              "    .dataframe tbody tr th:only-of-type {\n",
              "        vertical-align: middle;\n",
              "    }\n",
              "\n",
              "    .dataframe tbody tr th {\n",
              "        vertical-align: top;\n",
              "    }\n",
              "\n",
              "    .dataframe thead th {\n",
              "        text-align: right;\n",
              "    }\n",
              "</style>\n",
              "<table border=\"1\" class=\"dataframe\">\n",
              "  <thead>\n",
              "    <tr style=\"text-align: right;\">\n",
              "      <th></th>\n",
              "      <th>ADDRESS</th>\n",
              "      <th>CARS</th>\n",
              "      <th>BLUECAR COUNTER</th>\n",
              "      <th>UTILIB COUNTER</th>\n",
              "      <th>UTILIB 1.4 COUNTER</th>\n",
              "      <th>CHARGE SLOTS</th>\n",
              "      <th>CHARGING STATUS</th>\n",
              "      <th>CITY</th>\n",
              "      <th>ID</th>\n",
              "      <th>KIND</th>\n",
              "      <th>GEO POINT</th>\n",
              "      <th>POSTAL CODE</th>\n",
              "      <th>PUBLIC NAME</th>\n",
              "      <th>RENTAL STATUS</th>\n",
              "      <th>SCHEDULED AT</th>\n",
              "      <th>SLOTS</th>\n",
              "      <th>STATION TYPE</th>\n",
              "      <th>STATUS</th>\n",
              "      <th>SUBSCRIPTION STATUS</th>\n",
              "      <th>YEAR</th>\n",
              "      <th>MONTH</th>\n",
              "      <th>DAY</th>\n",
              "      <th>HOUR</th>\n",
              "      <th>MINUTE</th>\n",
              "      <th>ID DSP</th>\n",
              "      <th>ID Autolib</th>\n",
              "      <th>adresse</th>\n",
              "      <th>CP</th>\n",
              "      <th>ville</th>\n",
              "      <th>prises Autolib</th>\n",
              "      <th>prises Tiers T3</th>\n",
              "      <th>abri</th>\n",
              "      <th>type</th>\n",
              "      <th>latitude</th>\n",
              "      <th>longitude</th>\n",
              "    </tr>\n",
              "  </thead>\n",
              "  <tbody>\n",
              "    <tr>\n",
              "      <th>0</th>\n",
              "      <td>2 Avenue de Suffren</td>\n",
              "      <td>0.0</td>\n",
              "      <td>0.0</td>\n",
              "      <td>0.0</td>\n",
              "      <td>0.0</td>\n",
              "      <td>0.0</td>\n",
              "      <td>nonexistent</td>\n",
              "      <td>Paris</td>\n",
              "      <td>paris-suffren-2</td>\n",
              "      <td>STATION</td>\n",
              "      <td>48.857, 2.2917</td>\n",
              "      <td>75015.0</td>\n",
              "      <td>Paris/Suffren/2</td>\n",
              "      <td>operational</td>\n",
              "      <td>Missing</td>\n",
              "      <td>2.0</td>\n",
              "      <td>station</td>\n",
              "      <td>ok</td>\n",
              "      <td>nonexistent</td>\n",
              "      <td>2018.0</td>\n",
              "      <td>4.0</td>\n",
              "      <td>8.0</td>\n",
              "      <td>11.0</td>\n",
              "      <td>43.0</td>\n",
              "      <td>75101-PD</td>\n",
              "      <td>Paris/Pyramides/Parking</td>\n",
              "      <td>15 rue des Pyramides</td>\n",
              "      <td>75001.0</td>\n",
              "      <td>Paris</td>\n",
              "      <td>6.0</td>\n",
              "      <td>NaN</td>\n",
              "      <td>NaN</td>\n",
              "      <td>Parking</td>\n",
              "      <td>48.865247</td>\n",
              "      <td>2.333053</td>\n",
              "    </tr>\n",
              "    <tr>\n",
              "      <th>1</th>\n",
              "      <td>145 Rue Raymond Losserand</td>\n",
              "      <td>6.0</td>\n",
              "      <td>6.0</td>\n",
              "      <td>0.0</td>\n",
              "      <td>0.0</td>\n",
              "      <td>0.0</td>\n",
              "      <td>operational</td>\n",
              "      <td>Paris</td>\n",
              "      <td>paris-raymondlosserand-145</td>\n",
              "      <td>STATION</td>\n",
              "      <td>48.83126, 2.313088</td>\n",
              "      <td>75014.0</td>\n",
              "      <td>Paris/Raymond Losserand/145</td>\n",
              "      <td>operational</td>\n",
              "      <td>Missing</td>\n",
              "      <td>0.0</td>\n",
              "      <td>station</td>\n",
              "      <td>ok</td>\n",
              "      <td>nonexistent</td>\n",
              "      <td>2018.0</td>\n",
              "      <td>4.0</td>\n",
              "      <td>6.0</td>\n",
              "      <td>7.0</td>\n",
              "      <td>24.0</td>\n",
              "      <td>75103-PA</td>\n",
              "      <td>Paris/Saint-Martin/Parking</td>\n",
              "      <td>252 bis rue Saint-Martin</td>\n",
              "      <td>75003.0</td>\n",
              "      <td>Paris</td>\n",
              "      <td>6.0</td>\n",
              "      <td>NaN</td>\n",
              "      <td>NaN</td>\n",
              "      <td>Parking</td>\n",
              "      <td>48.865847</td>\n",
              "      <td>2.353606</td>\n",
              "    </tr>\n",
              "    <tr>\n",
              "      <th>2</th>\n",
              "      <td>2 Avenue John Fitzgerald Kennedy</td>\n",
              "      <td>3.0</td>\n",
              "      <td>3.0</td>\n",
              "      <td>0.0</td>\n",
              "      <td>2.0</td>\n",
              "      <td>0.0</td>\n",
              "      <td>operational</td>\n",
              "      <td>Le Bourget</td>\n",
              "      <td>lebourget-johnfitzgeraldkennedy-2</td>\n",
              "      <td>STATION</td>\n",
              "      <td>48.938103, 2.4286035</td>\n",
              "      <td>93350.0</td>\n",
              "      <td>Le Bourget/John Fitzgerald Kennedy/2</td>\n",
              "      <td>operational</td>\n",
              "      <td>Missing</td>\n",
              "      <td>1.0</td>\n",
              "      <td>station</td>\n",
              "      <td>ok</td>\n",
              "      <td>nonexistent</td>\n",
              "      <td>2018.0</td>\n",
              "      <td>4.0</td>\n",
              "      <td>3.0</td>\n",
              "      <td>20.0</td>\n",
              "      <td>14.0</td>\n",
              "      <td>75104-PE</td>\n",
              "      <td>Paris/Lobau/Parking</td>\n",
              "      <td>4 Rue Lobau</td>\n",
              "      <td>75004.0</td>\n",
              "      <td>Paris</td>\n",
              "      <td>6.0</td>\n",
              "      <td>NaN</td>\n",
              "      <td>NaN</td>\n",
              "      <td>Parking</td>\n",
              "      <td>48.856399</td>\n",
              "      <td>2.353686</td>\n",
              "    </tr>\n",
              "    <tr>\n",
              "      <th>3</th>\n",
              "      <td>51 Rue EugÃ¨ne OudinÃ©</td>\n",
              "      <td>3.0</td>\n",
              "      <td>3.0</td>\n",
              "      <td>1.0</td>\n",
              "      <td>0.0</td>\n",
              "      <td>1.0</td>\n",
              "      <td>operational</td>\n",
              "      <td>Paris</td>\n",
              "      <td>paris-eugeneoudine-51</td>\n",
              "      <td>STATION</td>\n",
              "      <td>48.8250327, 2.3725162</td>\n",
              "      <td>75013.0</td>\n",
              "      <td>Paris/EugÃ¨ne OudinÃ©/51</td>\n",
              "      <td>operational</td>\n",
              "      <td>Missing</td>\n",
              "      <td>2.0</td>\n",
              "      <td>station</td>\n",
              "      <td>ok</td>\n",
              "      <td>nonexistent</td>\n",
              "      <td>2018.0</td>\n",
              "      <td>4.0</td>\n",
              "      <td>4.0</td>\n",
              "      <td>4.0</td>\n",
              "      <td>37.0</td>\n",
              "      <td>75104-PF</td>\n",
              "      <td>Paris/Notre-Dame/Parking</td>\n",
              "      <td>1 place du parvis Notre-Dame</td>\n",
              "      <td>75004.0</td>\n",
              "      <td>Paris</td>\n",
              "      <td>6.0</td>\n",
              "      <td>NaN</td>\n",
              "      <td>NaN</td>\n",
              "      <td>Parking</td>\n",
              "      <td>48.853581</td>\n",
              "      <td>2.348915</td>\n",
              "    </tr>\n",
              "    <tr>\n",
              "      <th>4</th>\n",
              "      <td>NaN</td>\n",
              "      <td>NaN</td>\n",
              "      <td>NaN</td>\n",
              "      <td>NaN</td>\n",
              "      <td>NaN</td>\n",
              "      <td>NaN</td>\n",
              "      <td>NaN</td>\n",
              "      <td>NaN</td>\n",
              "      <td>NaN</td>\n",
              "      <td>NaN</td>\n",
              "      <td>NaN</td>\n",
              "      <td>NaN</td>\n",
              "      <td>NaN</td>\n",
              "      <td>NaN</td>\n",
              "      <td>NaN</td>\n",
              "      <td>NaN</td>\n",
              "      <td>NaN</td>\n",
              "      <td>NaN</td>\n",
              "      <td>NaN</td>\n",
              "      <td>NaN</td>\n",
              "      <td>NaN</td>\n",
              "      <td>NaN</td>\n",
              "      <td>NaN</td>\n",
              "      <td>NaN</td>\n",
              "      <td>75106-PA</td>\n",
              "      <td>Paris/Rennes Montparnasse/Parking</td>\n",
              "      <td>155 bis rue de Rennes</td>\n",
              "      <td>75006.0</td>\n",
              "      <td>Paris</td>\n",
              "      <td>6.0</td>\n",
              "      <td>NaN</td>\n",
              "      <td>NaN</td>\n",
              "      <td>Parking</td>\n",
              "      <td>48.845128</td>\n",
              "      <td>2.325235</td>\n",
              "    </tr>\n",
              "  </tbody>\n",
              "</table>\n",
              "</div>"
            ],
            "text/plain": [
              "                            ADDRESS  CARS  ...   latitude  longitude\n",
              "0               2 Avenue de Suffren   0.0  ...  48.865247   2.333053\n",
              "1         145 Rue Raymond Losserand   6.0  ...  48.865847   2.353606\n",
              "2  2 Avenue John Fitzgerald Kennedy   3.0  ...  48.856399   2.353686\n",
              "3            51 Rue EugÃ¨ne OudinÃ©   3.0  ...  48.853581   2.348915\n",
              "4                               NaN   NaN  ...  48.845128   2.325235\n",
              "\n",
              "[5 rows x 35 columns]"
            ]
          },
          "metadata": {
            "tags": []
          },
          "execution_count": 43
        }
      ]
    },
    {
      "cell_type": "markdown",
      "metadata": {
        "id": "vpxzEqQtbsgv"
      },
      "source": [
        "# **5. Answering Questions**"
      ]
    },
    {
      "cell_type": "code",
      "metadata": {
        "id": "-88AhP0abziv",
        "colab": {
          "base_uri": "https://localhost:8080/"
        },
        "outputId": "34176175-0020-46bf-a710-b2baa0d5962c"
      },
      "source": [
        "# What is the most popular hour for returning cars?\n",
        "#Subsetting the data by selecting positive of the slots then sorting the hours\n",
        "df[df.SLOTS > 0].groupby(['HOUR'])['BLUECAR COUNTER'].count().sort_values(ascending=False).head(1)"
      ],
      "execution_count": 27,
      "outputs": [
        {
          "output_type": "execute_result",
          "data": {
            "text/plain": [
              "HOUR\n",
              "16    152\n",
              "Name: BLUECAR COUNTER, dtype: int64"
            ]
          },
          "metadata": {
            "tags": []
          },
          "execution_count": 27
        }
      ]
    },
    {
      "cell_type": "markdown",
      "metadata": {
        "id": "mxvwA8ii61yb"
      },
      "source": [
        "### What is the most popular hour for returning cars?"
      ]
    },
    {
      "cell_type": "code",
      "metadata": {
        "id": "sJlD83wOb38v",
        "colab": {
          "base_uri": "https://localhost:8080/"
        },
        "outputId": "5a868a5c-2474-4aa2-9e83-f79ac117d359"
      },
      "source": [
        "# At the most popular picking hour?\n",
        "\n",
        "#most popular hour \n",
        "#using the IQR method \n",
        "Q1=df.quantile(0.25) \n",
        "Q2=df.quantile(0.50) \n",
        "Q3=df.quantile(0.75) \n",
        "\n",
        "IQR=Q3-Q1 \n",
        "print(IQR) \n",
        "RANGE1=Q1-(1.5*IQR) \n",
        "RANGE2=Q3+(1.5*IQR) \n",
        "RANGE1 \n",
        "RANGE2 "
      ],
      "execution_count": 28,
      "outputs": [
        {
          "output_type": "stream",
          "text": [
            "CARS                      4.0\n",
            "BLUECAR COUNTER           4.0\n",
            "UTILIB COUNTER            0.0\n",
            "UTILIB 1.4 COUNTER        0.0\n",
            "CHARGE SLOTS              0.0\n",
            "POSTAL CODE           17308.0\n",
            "SLOTS                     3.0\n",
            "YEAR                      0.0\n",
            "MONTH                     0.0\n",
            "DAY                       4.0\n",
            "HOUR                     12.0\n",
            "MINUTE                   30.0\n",
            "dtype: float64\n"
          ],
          "name": "stdout"
        },
        {
          "output_type": "execute_result",
          "data": {
            "text/plain": [
              "CARS                      10.0\n",
              "BLUECAR COUNTER           10.0\n",
              "UTILIB COUNTER             0.0\n",
              "UTILIB 1.4 COUNTER         0.0\n",
              "CHARGE SLOTS               0.0\n",
              "POSTAL CODE           118282.0\n",
              "SLOTS                      7.5\n",
              "YEAR                    2018.0\n",
              "MONTH                      4.0\n",
              "DAY                       13.0\n",
              "HOUR                      36.0\n",
              "MINUTE                    89.0\n",
              "dtype: float64"
            ]
          },
          "metadata": {
            "tags": []
          },
          "execution_count": 28
        }
      ]
    },
    {
      "cell_type": "code",
      "metadata": {
        "colab": {
          "base_uri": "https://localhost:8080/"
        },
        "id": "7Hi7gK9l4Pt5",
        "outputId": "012027ee-5db5-43e0-f921-3165cf3e9099"
      },
      "source": [
        "Hours=df[(df['CITY'] == 'Paris') & (df['YEAR'] == 2018) & (df['MONTH'] == 4)]\n",
        "\n",
        "Hours= Hours.groupby(['HOUR'])['BLUECAR COUNTER'].sum()\n",
        "Hours[[Hours.idxmax()]]"
      ],
      "execution_count": 29,
      "outputs": [
        {
          "output_type": "execute_result",
          "data": {
            "text/plain": [
              "HOUR\n",
              "21    268\n",
              "Name: BLUECAR COUNTER, dtype: int64"
            ]
          },
          "metadata": {
            "tags": []
          },
          "execution_count": 29
        }
      ]
    },
    {
      "cell_type": "markdown",
      "metadata": {
        "id": "av5AqUzGJHlP"
      },
      "source": [
        "### What station is the most popular?\n",
        "\n",
        "i.) Overall"
      ]
    },
    {
      "cell_type": "code",
      "metadata": {
        "colab": {
          "base_uri": "https://localhost:8080/"
        },
        "id": "qN1orGNeBJ3-",
        "outputId": "12fa0768-1d8d-4960-fcf9-08f435ab88c6"
      },
      "source": [
        "#Subsetting the dataset then sorting it by the name\n",
        "df = df[(df['KIND'] == 'STATION') & (df['RENTAL STATUS'] == 'operational')]\n",
        "df.groupby(['ID'])['KIND'].count().sort_values(ascending=False).head(1)"
      ],
      "execution_count": 30,
      "outputs": [
        {
          "output_type": "execute_result",
          "data": {
            "text/plain": [
              "ID\n",
              "paris-portedemontrouge-8    13\n",
              "Name: KIND, dtype: int64"
            ]
          },
          "metadata": {
            "tags": []
          },
          "execution_count": 30
        }
      ]
    },
    {
      "cell_type": "code",
      "metadata": {
        "id": "BXasQS8dJgFW",
        "colab": {
          "base_uri": "https://localhost:8080/",
          "height": 129
        },
        "outputId": "e07c607a-cabf-4416-8d67-4650bf169b0d"
      },
      "source": [
        "#Subsetting the dataset then sorting it by the name\n",
        "df2 = df[(df['BLUECAR COUNTER'] > 0) & (df['HOUR'] == 6).groupby(['POSTAL CODE', 'HOUR'])['BLUECAR COUNTER'].max()\n",
        "df2\n"
      ],
      "execution_count": 31,
      "outputs": [
        {
          "output_type": "error",
          "ename": "SyntaxError",
          "evalue": "ignored",
          "traceback": [
            "\u001b[0;36m  File \u001b[0;32m\"<ipython-input-31-4e9591ca935a>\"\u001b[0;36m, line \u001b[0;32m3\u001b[0m\n\u001b[0;31m    df2\u001b[0m\n\u001b[0m      ^\u001b[0m\n\u001b[0;31mSyntaxError\u001b[0m\u001b[0;31m:\u001b[0m invalid syntax\n"
          ]
        }
      ]
    },
    {
      "cell_type": "markdown",
      "metadata": {
        "id": "XeyjdXFwJWoH"
      },
      "source": [
        "###  ii) At the most popular picking hour"
      ]
    },
    {
      "cell_type": "code",
      "metadata": {
        "id": "03UpHC5xb30H"
      },
      "source": [
        "# What postal code is the most popular for picking up Blue cars? Does the most popular station belong to that postal code?\n",
        "df = df[(df['KIND'] == 'STATION') & (df['RENTAL STATUS'] == 'operational') & (df['HOUR'] == 6)]\n",
        "df.groupby(['ID'])['KIND'].count().sort_values(ascending=False).head(1)\n",
        "\n",
        "df_merge.groupby(\"postal_code\").count().sort_values(by=\"postal_code\").head() \n",
        "# Overall?\n",
        "# At the most popular picking hour?"
      ],
      "execution_count": null,
      "outputs": []
    }
  ]
}